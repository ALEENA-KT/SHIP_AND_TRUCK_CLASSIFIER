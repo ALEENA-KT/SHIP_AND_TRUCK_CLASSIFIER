{
  "nbformat": 4,
  "nbformat_minor": 0,
  "metadata": {
    "colab": {
      "name": "SHIP AND TRUCK.ipynb",
      "provenance": []
    },
    "kernelspec": {
      "name": "python3",
      "display_name": "Python 3"
    },
    "language_info": {
      "name": "python"
    }
  },
  "cells": [
    {
      "cell_type": "code",
      "metadata": {
        "id": "v4ku5seMfslc"
      },
      "source": [
        "import tensorflow as tf\n",
        "from tensorflow.keras import datasets, layers, models\n",
        "import matplotlib\n",
        "import matplotlib.pyplot as plt\n",
        "import numpy as np"
      ],
      "execution_count": 14,
      "outputs": []
    },
    {
      "cell_type": "code",
      "metadata": {
        "colab": {
          "base_uri": "https://localhost:8080/"
        },
        "id": "2MCFHvJj60Nw",
        "outputId": "f6af631e-906f-4e84-a859-25f61910a388"
      },
      "source": [
        "(X_train, y_train), (X_test,y_test) = datasets.cifar10.load_data()\n",
        "X_train.shape"
      ],
      "execution_count": 15,
      "outputs": [
        {
          "output_type": "stream",
          "text": [
            "Downloading data from https://www.cs.toronto.edu/~kriz/cifar-10-python.tar.gz\n",
            "170500096/170498071 [==============================] - 4s 0us/step\n"
          ],
          "name": "stdout"
        },
        {
          "output_type": "execute_result",
          "data": {
            "text/plain": [
              "(50000, 32, 32, 3)"
            ]
          },
          "metadata": {
            "tags": []
          },
          "execution_count": 15
        }
      ]
    },
    {
      "cell_type": "code",
      "metadata": {
        "id": "Iu7NcPzd-HoG"
      },
      "source": [
        "y_train = y_train.reshape(-1,)\n",
        "y_test = y_test.reshape(-1,)"
      ],
      "execution_count": 17,
      "outputs": []
    },
    {
      "cell_type": "code",
      "metadata": {
        "id": "olpbrNkB-huX"
      },
      "source": [
        "X_train, y_train = X_train[(y_train == 8) | (y_train == 9)] , y_train[(y_train == 8) | (y_train == 9)]\n",
        "X_test, y_test = X_test[(y_test == 8) | (y_test == 9)] , y_test[(y_test == 8) | (y_test == 9)]"
      ],
      "execution_count": 18,
      "outputs": []
    },
    {
      "cell_type": "code",
      "metadata": {
        "colab": {
          "base_uri": "https://localhost:8080/"
        },
        "id": "RRAY_-jPM-Al",
        "outputId": "d9fff6e7-6def-4130-f9d7-61194c25a524"
      },
      "source": [
        "y_train.shape"
      ],
      "execution_count": 19,
      "outputs": [
        {
          "output_type": "execute_result",
          "data": {
            "text/plain": [
              "(10000,)"
            ]
          },
          "metadata": {
            "tags": []
          },
          "execution_count": 19
        }
      ]
    },
    {
      "cell_type": "code",
      "metadata": {
        "id": "bHdYeC4xB4Sv"
      },
      "source": [
        "X_train.shape"
      ],
      "execution_count": null,
      "outputs": []
    },
    {
      "cell_type": "code",
      "metadata": {
        "id": "0onl0LazPnQO"
      },
      "source": [
        "classes = [\"airplane\",\"automobile\",\"bird\",\"cat\",\"deer\",\"dog\",\"frog\",\"horse\",\"ship\",\"truck\"]"
      ],
      "execution_count": 20,
      "outputs": []
    },
    {
      "cell_type": "code",
      "metadata": {
        "id": "5usge-OKWzro"
      },
      "source": [
        "def plot_sample(X, y, index):\n",
        "    plt.figure(figsize = (15,2))\n",
        "    plt.imshow(X[index])\n",
        "    plt.xlabel(classes[y[index]])"
      ],
      "execution_count": 21,
      "outputs": []
    },
    {
      "cell_type": "code",
      "metadata": {
        "id": "NKPa4LmEW4be"
      },
      "source": [
        "plot_sample(X_train, y_train, 273)"
      ],
      "execution_count": null,
      "outputs": []
    },
    {
      "cell_type": "code",
      "metadata": {
        "id": "maARQ2fkXz0F"
      },
      "source": [
        "\n",
        "X_train = X_train / 255.0\n",
        "X_test = X_test / 255.0"
      ],
      "execution_count": 23,
      "outputs": []
    },
    {
      "cell_type": "code",
      "metadata": {
        "id": "YxS7G_h9i6_O"
      },
      "source": [
        "# ann = models.Sequential([\n",
        "#        layers.Flatten(input_shape=(32,32,3)),\n",
        "#       layers.Dense(3000, activation='relu'),\n",
        "#        layers.Dense(1000, activation='relu'),\n",
        "#        layers.Dense(10, activation='softmax')    \n",
        "#    ])\n",
        "\n",
        "#ann.compile(optimizer='SGD',\n",
        " #             loss='sparse_categorical_crossentropy',\n",
        "  #            metrics=['accuracy'])\n",
        "\n",
        "# ann.fit(X_train, y_train, epochs=5) "
      ],
      "execution_count": 24,
      "outputs": []
    },
    {
      "cell_type": "code",
      "metadata": {
        "id": "WwOleuOLjje6"
      },
      "source": [
        "#from sklearn.metrics import confusion_matrix , classification_report\n",
        "#import numpy as np\n",
        "#y_pred = ann.predict(X_test)\n",
        "#y_pred_classes = [np.argmax(element) for element in y_pred]\n",
        "\n",
        "#print(\"Classification Report: \\n\", classification_report(y_test, y_pred_classes))"
      ],
      "execution_count": 25,
      "outputs": []
    },
    {
      "cell_type": "code",
      "metadata": {
        "id": "uHtbbKwPkyK3"
      },
      "source": [
        "cnn = models.Sequential([\n",
        "    layers.Conv2D(filters=32, kernel_size=(3, 3), activation='relu', input_shape=(32, 32, 3)),\n",
        "    layers.MaxPooling2D((2, 2)),\n",
        "    \n",
        "    layers.Conv2D(filters=64, kernel_size=(3, 3), activation='relu'),\n",
        "    layers.MaxPooling2D((2, 2)),\n",
        "    \n",
        "    layers.Flatten(),\n",
        "    layers.Dense(64, activation='relu'),\n",
        "    layers.Dense(10, activation='softmax')\n",
        "])"
      ],
      "execution_count": 27,
      "outputs": []
    },
    {
      "cell_type": "code",
      "metadata": {
        "id": "CYcJkAwYk0F6"
      },
      "source": [
        "cnn.compile(optimizer='adam',\n",
        "              loss='sparse_categorical_crossentropy',\n",
        "              metrics=['accuracy'])"
      ],
      "execution_count": 28,
      "outputs": []
    },
    {
      "cell_type": "code",
      "metadata": {
        "id": "YDGEHroJk4ry"
      },
      "source": [
        "cnn.fit(X_train, y_train, epochs=10)"
      ],
      "execution_count": null,
      "outputs": []
    },
    {
      "cell_type": "code",
      "metadata": {
        "id": "k4vvxLpQlja3"
      },
      "source": [
        "cnn.evaluate(X_test,y_test)"
      ],
      "execution_count": null,
      "outputs": []
    },
    {
      "cell_type": "code",
      "metadata": {
        "colab": {
          "base_uri": "https://localhost:8080/"
        },
        "id": "biAHGpeolttM",
        "outputId": "26845cad-7ae3-4c5b-9f15-d533fd4a7cab"
      },
      "source": [
        "y_pred = cnn.predict(X_test)\n",
        "y_pred[:5]"
      ],
      "execution_count": 31,
      "outputs": [
        {
          "output_type": "execute_result",
          "data": {
            "text/plain": [
              "array([[1.7405389e-08, 6.7584821e-08, 1.6252070e-08, 1.3732078e-08,\n",
              "        4.7989118e-08, 5.6188604e-08, 3.5708070e-09, 6.1803189e-09,\n",
              "        9.9096924e-01, 9.0305470e-03],\n",
              "       [8.6705830e-07, 1.5451857e-06, 1.4562124e-06, 8.0531510e-07,\n",
              "        3.3491144e-06, 3.6684562e-06, 2.1852698e-07, 6.8014464e-07,\n",
              "        3.4372985e-01, 6.5625757e-01],\n",
              "       [3.9555008e-09, 2.5733633e-09, 2.3990330e-08, 5.5860716e-09,\n",
              "        8.5390521e-09, 2.7798395e-08, 1.0342007e-09, 3.9601660e-09,\n",
              "        8.5656089e-04, 9.9914324e-01],\n",
              "       [4.3976973e-09, 3.5165777e-09, 1.7040717e-08, 5.1759455e-09,\n",
              "        7.9681390e-09, 1.3237675e-08, 4.9207061e-10, 6.7996559e-09,\n",
              "        1.4134740e-03, 9.9858654e-01],\n",
              "       [1.5186441e-08, 2.7200704e-08, 1.2415088e-08, 1.1676696e-08,\n",
              "        4.4118103e-08, 3.7282774e-08, 2.1850575e-09, 1.4643846e-08,\n",
              "        9.7943383e-01, 2.0566046e-02]], dtype=float32)"
            ]
          },
          "metadata": {
            "tags": []
          },
          "execution_count": 31
        }
      ]
    },
    {
      "cell_type": "code",
      "metadata": {
        "colab": {
          "base_uri": "https://localhost:8080/"
        },
        "id": "LujaREn9lv_a",
        "outputId": "38a78a9a-9835-4510-90be-8e16956dfb5e"
      },
      "source": [
        "y_classes = [np.argmax(element) for element in y_pred]\n",
        "y_classes[:5]"
      ],
      "execution_count": 32,
      "outputs": [
        {
          "output_type": "execute_result",
          "data": {
            "text/plain": [
              "[8, 9, 9, 9, 8]"
            ]
          },
          "metadata": {
            "tags": []
          },
          "execution_count": 32
        }
      ]
    },
    {
      "cell_type": "code",
      "metadata": {
        "id": "fQ6Y37nH-Aqq"
      },
      "source": [
        "cnn.save(\"Cifar_ship_truck.h5\")"
      ],
      "execution_count": 34,
      "outputs": []
    },
    {
      "cell_type": "code",
      "metadata": {
        "id": "IWUA5gVt9F3n"
      },
      "source": [
        "print(tf. __version__)"
      ],
      "execution_count": null,
      "outputs": []
    },
    {
      "cell_type": "code",
      "metadata": {
        "id": "UuSiP0KM9Mq3"
      },
      "source": [
        "print(matplotlib. __version__)"
      ],
      "execution_count": null,
      "outputs": []
    },
    {
      "cell_type": "code",
      "metadata": {
        "colab": {
          "base_uri": "https://localhost:8080/"
        },
        "id": "z4bxZiZ-9ko4",
        "outputId": "b3ae96dc-c242-494c-ad15-db07792ae035"
      },
      "source": [
        "print(np. __version__)"
      ],
      "execution_count": 36,
      "outputs": [
        {
          "output_type": "stream",
          "text": [
            "1.19.5\n"
          ],
          "name": "stdout"
        }
      ]
    }
  ]
}